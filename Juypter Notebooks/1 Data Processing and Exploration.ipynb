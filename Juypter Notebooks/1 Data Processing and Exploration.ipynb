{
 "metadata": {
  "language_info": {
   "codemirror_mode": {
    "name": "ipython",
    "version": 3
   },
   "file_extension": ".py",
   "mimetype": "text/x-python",
   "name": "python",
   "nbconvert_exporter": "python",
   "pygments_lexer": "ipython3",
   "version": 3
  },
  "orig_nbformat": 2,
  "kernelspec": {
   "name": "python_defaultSpec_1596301655403",
   "display_name": "Python 3.8.4 32-bit"
  }
 },
 "nbformat": 4,
 "nbformat_minor": 2,
 "cells": [
  {
   "cell_type": "markdown",
   "metadata": {},
   "source": [
    "# Crash Attribute Segmentation of New Jersey State Vehicle Accident Data\n",
    "## Data Cleaning, Processing, and Exploration\n",
    "\n",
    "This notebook outlines the process of cleaning, processing, and exploring accident data downloaded from the New Jersey Department of Transportation (NJDOT) for 2014 through 2018. The steps of this process are as follows:\n",
    "\n",
    "1. Data Cleaning in Excel and Python\n",
    "2. Data Exploration using Visualization\n",
    "3. Processing Data for Principle Component Analysis\n",
    "\n",
    "The resulting file of this process is a CSV of county-municipality locations with normalized values for each crash attribute column."
   ]
  },
  {
   "cell_type": "code",
   "execution_count": 1,
   "metadata": {},
   "outputs": [],
   "source": [
    "import os\n",
    "import glob\n",
    "# data managing and display libs\n",
    "import numpy as np\n",
    "import pandas as pd\n",
    "import matplotlib.pyplot as plt\n",
    "import matplotlib\n",
    "\n",
    "%matplotlib inline "
   ]
  },
  {
   "cell_type": "markdown",
   "metadata": {},
   "source": [
    "## 1. Data Cleaning in Excel and Python\n",
    "This section explains the data cleaning process using Excel and Python. The raw data downloaded from NJDOT needed to be pre-processed before being fed into a K-Means model. Below is a list of problems found when exploring the data:\n",
    "\n",
    "1. County and Municipality values were integers instead of readable titles. These integer values would need to be transcribed and concatenated so that rows can be grouped by County-Municipality in a future processing step.\n",
    "2. Many columns contained textual values, counts, and file meta-data along with crash attribute columns. Many of these columns would need to be removed so that crash attribute columns can be isolated.\n",
    "3. Some crash attribute columns are retired in (2017-2018) compared to (2014-2016). Values for these retired columns will need to be queried from the other avaliable tables from the NJDOT site.\n",
    "4. Each row signifies a particular crash accident which means there are multiple data points per County-Municipality. Since this project focuses on finding crash patterns among municipalities, the data will need to be encoded and grouped by municipality.\n",
    "\n",
    "### Data Cleaning\n",
    "Problems 1 through 3 were solved using Excel and SQL. A data dictonary containing County-Municipality titles with their associated integer keys was created to transcribe the accident locations. Using the VLOOKUP function in Excel, readable County-Municipality titles were added to each row and columns containing the integer keys were removed. \n",
    "\n",
    "Columns which contained textual descriptions, file meta-data, and counts for vehicles or persons were removed manually in Excel. This was done to focus more on crash attributes that may be similar across several municipalities instead of quantitive data which may vary across municipalities.\n",
    "\n",
    "Columns that were retired or added between years had to be verified or queried for. For example, 2014-2016 data did not have the \"first_harmful_event\" column which is a value from the Vehicles table avaliable on NJDOT's site. To bridge this gap, SQL was used to locate values from external tables for these columns using the unique \"crashid\" value and joined to the accidents data.\n",
    "\n",
    "Problem 4 was solved using Python and is documented below. The accidents data used for this notebook is the pre-processed data after completing Problems 1 through 3.\n",
    "\n",
    "### Combine 2014-2018 CSVs into one Dataframe\n",
    "Because the data was seperated by year, the data needs to be combined into a single Dataframe before it is grouped and normalized. Rows that do not have complete data are deleted."
   ]
  },
  {
   "cell_type": "code",
   "execution_count": 4,
   "metadata": {
    "tags": []
   },
   "outputs": [
    {
     "output_type": "stream",
     "name": "stdout",
     "text": "(7878, 20)\n"
    },
    {
     "output_type": "execute_result",
     "data": {
      "text/plain": "                crashid                location  severity_rating5  \\\n0  01-02-2014-14-086659  ATLANTIC-ATLANTIC CITY                 4   \n1  01-02-2014-14-083519  ATLANTIC-ATLANTIC CITY                 4   \n2  01-02-2014-14-131338  ATLANTIC-ATLANTIC CITY                 5   \n3  01-02-2014-14-115664  ATLANTIC-ATLANTIC CITY                 5   \n4  01-02-2014-14-099046  ATLANTIC-ATLANTIC CITY                 4   \n\n  intersection alcohol_involved hazmat_involved  hs_collision_type  \\\n0            N                N               N                  1   \n1            N                Y               N                  1   \n2            Y                N               N                  2   \n3            Y                N               N                  1   \n4            N                N               N                  1   \n\n   crash_type  road_sys_code  road_horiz_align_code  road_grade_code  \\\n0        13.0              7                    1.0              4.0   \n1        13.0              7                    1.0              4.0   \n2         3.0              7                    1.0              4.0   \n3        13.0              7                    1.0              4.0   \n4        13.0              7                    1.0              4.0   \n\n   road_surf_code  surf_cond_code  light_cond_code  environ_cond_code  \\\n0             2.0             1.0              1.0                1.0   \n1             2.0             1.0              6.0                5.0   \n2             2.0             1.0              1.0                1.0   \n3             1.0             2.0              6.0                2.0   \n4             2.0             1.0              1.0                1.0   \n\n   road_median_code  temp_traffic_zone  posted_speed  first_harmful_event  \\\n0               2.0                1.0          25.0                 22.0   \n1               4.0                1.0          25.0                 22.0   \n2               5.0                1.0          25.0                 26.0   \n3               4.0                NaN          25.0                 22.0   \n4               5.0                1.0          25.0                 22.0   \n\n  flg_cell_in_use  \n0               N  \n1               N  \n2               Y  \n3               N  \n4               N  ",
      "text/html": "<div>\n<style scoped>\n    .dataframe tbody tr th:only-of-type {\n        vertical-align: middle;\n    }\n\n    .dataframe tbody tr th {\n        vertical-align: top;\n    }\n\n    .dataframe thead th {\n        text-align: right;\n    }\n</style>\n<table border=\"1\" class=\"dataframe\">\n  <thead>\n    <tr style=\"text-align: right;\">\n      <th></th>\n      <th>crashid</th>\n      <th>location</th>\n      <th>severity_rating5</th>\n      <th>intersection</th>\n      <th>alcohol_involved</th>\n      <th>hazmat_involved</th>\n      <th>hs_collision_type</th>\n      <th>crash_type</th>\n      <th>road_sys_code</th>\n      <th>road_horiz_align_code</th>\n      <th>road_grade_code</th>\n      <th>road_surf_code</th>\n      <th>surf_cond_code</th>\n      <th>light_cond_code</th>\n      <th>environ_cond_code</th>\n      <th>road_median_code</th>\n      <th>temp_traffic_zone</th>\n      <th>posted_speed</th>\n      <th>first_harmful_event</th>\n      <th>flg_cell_in_use</th>\n    </tr>\n  </thead>\n  <tbody>\n    <tr>\n      <th>0</th>\n      <td>01-02-2014-14-086659</td>\n      <td>ATLANTIC-ATLANTIC CITY</td>\n      <td>4</td>\n      <td>N</td>\n      <td>N</td>\n      <td>N</td>\n      <td>1</td>\n      <td>13.0</td>\n      <td>7</td>\n      <td>1.0</td>\n      <td>4.0</td>\n      <td>2.0</td>\n      <td>1.0</td>\n      <td>1.0</td>\n      <td>1.0</td>\n      <td>2.0</td>\n      <td>1.0</td>\n      <td>25.0</td>\n      <td>22.0</td>\n      <td>N</td>\n    </tr>\n    <tr>\n      <th>1</th>\n      <td>01-02-2014-14-083519</td>\n      <td>ATLANTIC-ATLANTIC CITY</td>\n      <td>4</td>\n      <td>N</td>\n      <td>Y</td>\n      <td>N</td>\n      <td>1</td>\n      <td>13.0</td>\n      <td>7</td>\n      <td>1.0</td>\n      <td>4.0</td>\n      <td>2.0</td>\n      <td>1.0</td>\n      <td>6.0</td>\n      <td>5.0</td>\n      <td>4.0</td>\n      <td>1.0</td>\n      <td>25.0</td>\n      <td>22.0</td>\n      <td>N</td>\n    </tr>\n    <tr>\n      <th>2</th>\n      <td>01-02-2014-14-131338</td>\n      <td>ATLANTIC-ATLANTIC CITY</td>\n      <td>5</td>\n      <td>Y</td>\n      <td>N</td>\n      <td>N</td>\n      <td>2</td>\n      <td>3.0</td>\n      <td>7</td>\n      <td>1.0</td>\n      <td>4.0</td>\n      <td>2.0</td>\n      <td>1.0</td>\n      <td>1.0</td>\n      <td>1.0</td>\n      <td>5.0</td>\n      <td>1.0</td>\n      <td>25.0</td>\n      <td>26.0</td>\n      <td>Y</td>\n    </tr>\n    <tr>\n      <th>3</th>\n      <td>01-02-2014-14-115664</td>\n      <td>ATLANTIC-ATLANTIC CITY</td>\n      <td>5</td>\n      <td>Y</td>\n      <td>N</td>\n      <td>N</td>\n      <td>1</td>\n      <td>13.0</td>\n      <td>7</td>\n      <td>1.0</td>\n      <td>4.0</td>\n      <td>1.0</td>\n      <td>2.0</td>\n      <td>6.0</td>\n      <td>2.0</td>\n      <td>4.0</td>\n      <td>NaN</td>\n      <td>25.0</td>\n      <td>22.0</td>\n      <td>N</td>\n    </tr>\n    <tr>\n      <th>4</th>\n      <td>01-02-2014-14-099046</td>\n      <td>ATLANTIC-ATLANTIC CITY</td>\n      <td>4</td>\n      <td>N</td>\n      <td>N</td>\n      <td>N</td>\n      <td>1</td>\n      <td>13.0</td>\n      <td>7</td>\n      <td>1.0</td>\n      <td>4.0</td>\n      <td>2.0</td>\n      <td>1.0</td>\n      <td>1.0</td>\n      <td>1.0</td>\n      <td>5.0</td>\n      <td>1.0</td>\n      <td>25.0</td>\n      <td>22.0</td>\n      <td>N</td>\n    </tr>\n  </tbody>\n</table>\n</div>"
     },
     "metadata": {},
     "execution_count": 4
    }
   ],
   "source": [
    "crash_data_csv = pd.DataFrame() # this will hold all accident data from the CSVs\n",
    "\n",
    "parent_folder = r'C:\\Users\\Seu\\Documents\\Udacity\\Machine Learning\\Capstone\\Capstone_data\\crash_data_severity'\n",
    "crash_files = glob.glob(os.path.join(parent_folder, \"*.csv\"))     # advisable to use os.path.join as this makes concatenation OS independent\n",
    "\n",
    "crash_data_csv = pd.concat((pd.read_csv(f, header=0, delimiter=\",\", index_col=None) for f in crash_files))\n",
    "\n",
    "print(crash_data_csv.shape)\n",
    "crash_data_csv.head()\n"
   ]
  },
  {
   "cell_type": "code",
   "execution_count": 5,
   "metadata": {
    "tags": []
   },
   "outputs": [
    {
     "output_type": "stream",
     "name": "stdout",
     "text": "(clean) rows, cols:  (6819, 20)\n"
    }
   ],
   "source": [
    "# drop any incomplete data\n",
    "crash_data_csv = crash_data_csv.dropna(axis=0)\n",
    "print('(clean) rows, cols: ', crash_data_csv.shape)"
   ]
  },
  {
   "cell_type": "code",
   "execution_count": 6,
   "metadata": {},
   "outputs": [],
   "source": [
    "# save the combined dataframe into a csv for future use\n",
    "process_folder = r'C:\\Users\\Seu\\Documents\\Udacity\\Machine Learning\\Capstone\\Capstone_data\\processed_data'\n",
    "savePath =  os.path.join(process_folder, 'accidents_combined_severity.csv')\n",
    "crash_data_csv.to_csv(savePath)\n"
   ]
  },
  {
   "cell_type": "markdown",
   "metadata": {},
   "source": [
    "## 2. Data Exploration"
   ]
  },
  {
   "cell_type": "markdown",
   "metadata": {},
   "source": [
    "## 3. Processing Data for Principle Component Analysis\n",
    "### Encode Columns using One Hot Encoding\n",
    "Data in the Accidents table consists of rows containing information about one instance of a crash. Information includes the Crash ID, county, municipality, and several crash attributes such as alcohol involvement, road surface conditions, and hazards. The data format for these columns range from Y/N letters to numerical codes, all of which are categorial variables. \n",
    "\n",
    "Because this project focuses on exploring crash patterns between municipalities, the current format of the Accidents table cannot be used to train the K-Means model. Instead, the data needs to be grouped by municipality and each categorical column must be converted to a numerical value. One Hot Encoding was used to convert categorial values into one-dimensional vectors. Encoded rows were spotchecked against the CSV data in Excel. Afterwards, each column was summed based on municipality groups then processed in the normalization step.\n",
    "\n",
    "**A big shoutout to my Proposal reviewer for suggesting this technique to me!!**"
   ]
  },
  {
   "cell_type": "code",
   "execution_count": 7,
   "metadata": {},
   "outputs": [],
   "source": [
    "def createEncodings(aDataframe):\n",
    "    encodingDataFrame = pd.DataFrame()\n",
    "    for (columnName, columnData) in aDataframe.iteritems():\n",
    "        if columnName in [\"location\", \"crashid\"]:\n",
    "            continue;\n",
    "        dfDummies = pd.get_dummies(aDataframe[columnName], prefix=columnName)\n",
    "        encodingDataFrame = pd.concat([encodingDataFrame, dfDummies], axis=1)\n",
    "    return encodingDataFrame"
   ]
  },
  {
   "cell_type": "code",
   "execution_count": 8,
   "metadata": {},
   "outputs": [
    {
     "output_type": "execute_result",
     "data": {
      "text/plain": "   severity_rating5_4  severity_rating5_5  intersection_N  intersection_Y  \\\n0                   1                   0               1               0   \n1                   1                   0               1               0   \n2                   0                   1               0               1   \n4                   1                   0               1               0   \n5                   1                   0               1               0   \n\n   alcohol_involved_N  alcohol_involved_Y  hazmat_involved_N  \\\n0                   1                   0                  1   \n1                   0                   1                  1   \n2                   1                   0                  1   \n4                   1                   0                  1   \n5                   0                   1                  1   \n\n   hazmat_involved_Y  hs_collision_type_1  hs_collision_type_2  ...  \\\n0                  0                    1                    0  ...   \n1                  0                    1                    0  ...   \n2                  0                    0                    1  ...   \n4                  0                    1                    0  ...   \n5                  0                    0                    1  ...   \n\n   first_harmful_event_57.0  first_harmful_event_58.0  \\\n0                         0                         0   \n1                         0                         0   \n2                         0                         0   \n4                         0                         0   \n5                         0                         0   \n\n   first_harmful_event_59.0  first_harmful_event_60.0  \\\n0                         0                         0   \n1                         0                         0   \n2                         0                         0   \n4                         0                         0   \n5                         0                         0   \n\n   first_harmful_event_61.0  first_harmful_event_62.0  \\\n0                         0                         0   \n1                         0                         0   \n2                         0                         0   \n4                         0                         0   \n5                         0                         0   \n\n   first_harmful_event_69.0  first_harmful_event_99.0  flg_cell_in_use_N  \\\n0                         0                         0                  1   \n1                         0                         0                  1   \n2                         0                         0                  0   \n4                         0                         0                  1   \n5                         0                         0                  1   \n\n   flg_cell_in_use_Y  \n0                  0  \n1                  0  \n2                  1  \n4                  0  \n5                  0  \n\n[5 rows x 175 columns]",
      "text/html": "<div>\n<style scoped>\n    .dataframe tbody tr th:only-of-type {\n        vertical-align: middle;\n    }\n\n    .dataframe tbody tr th {\n        vertical-align: top;\n    }\n\n    .dataframe thead th {\n        text-align: right;\n    }\n</style>\n<table border=\"1\" class=\"dataframe\">\n  <thead>\n    <tr style=\"text-align: right;\">\n      <th></th>\n      <th>severity_rating5_4</th>\n      <th>severity_rating5_5</th>\n      <th>intersection_N</th>\n      <th>intersection_Y</th>\n      <th>alcohol_involved_N</th>\n      <th>alcohol_involved_Y</th>\n      <th>hazmat_involved_N</th>\n      <th>hazmat_involved_Y</th>\n      <th>hs_collision_type_1</th>\n      <th>hs_collision_type_2</th>\n      <th>...</th>\n      <th>first_harmful_event_57.0</th>\n      <th>first_harmful_event_58.0</th>\n      <th>first_harmful_event_59.0</th>\n      <th>first_harmful_event_60.0</th>\n      <th>first_harmful_event_61.0</th>\n      <th>first_harmful_event_62.0</th>\n      <th>first_harmful_event_69.0</th>\n      <th>first_harmful_event_99.0</th>\n      <th>flg_cell_in_use_N</th>\n      <th>flg_cell_in_use_Y</th>\n    </tr>\n  </thead>\n  <tbody>\n    <tr>\n      <th>0</th>\n      <td>1</td>\n      <td>0</td>\n      <td>1</td>\n      <td>0</td>\n      <td>1</td>\n      <td>0</td>\n      <td>1</td>\n      <td>0</td>\n      <td>1</td>\n      <td>0</td>\n      <td>...</td>\n      <td>0</td>\n      <td>0</td>\n      <td>0</td>\n      <td>0</td>\n      <td>0</td>\n      <td>0</td>\n      <td>0</td>\n      <td>0</td>\n      <td>1</td>\n      <td>0</td>\n    </tr>\n    <tr>\n      <th>1</th>\n      <td>1</td>\n      <td>0</td>\n      <td>1</td>\n      <td>0</td>\n      <td>0</td>\n      <td>1</td>\n      <td>1</td>\n      <td>0</td>\n      <td>1</td>\n      <td>0</td>\n      <td>...</td>\n      <td>0</td>\n      <td>0</td>\n      <td>0</td>\n      <td>0</td>\n      <td>0</td>\n      <td>0</td>\n      <td>0</td>\n      <td>0</td>\n      <td>1</td>\n      <td>0</td>\n    </tr>\n    <tr>\n      <th>2</th>\n      <td>0</td>\n      <td>1</td>\n      <td>0</td>\n      <td>1</td>\n      <td>1</td>\n      <td>0</td>\n      <td>1</td>\n      <td>0</td>\n      <td>0</td>\n      <td>1</td>\n      <td>...</td>\n      <td>0</td>\n      <td>0</td>\n      <td>0</td>\n      <td>0</td>\n      <td>0</td>\n      <td>0</td>\n      <td>0</td>\n      <td>0</td>\n      <td>0</td>\n      <td>1</td>\n    </tr>\n    <tr>\n      <th>4</th>\n      <td>1</td>\n      <td>0</td>\n      <td>1</td>\n      <td>0</td>\n      <td>1</td>\n      <td>0</td>\n      <td>1</td>\n      <td>0</td>\n      <td>1</td>\n      <td>0</td>\n      <td>...</td>\n      <td>0</td>\n      <td>0</td>\n      <td>0</td>\n      <td>0</td>\n      <td>0</td>\n      <td>0</td>\n      <td>0</td>\n      <td>0</td>\n      <td>1</td>\n      <td>0</td>\n    </tr>\n    <tr>\n      <th>5</th>\n      <td>1</td>\n      <td>0</td>\n      <td>1</td>\n      <td>0</td>\n      <td>0</td>\n      <td>1</td>\n      <td>1</td>\n      <td>0</td>\n      <td>0</td>\n      <td>1</td>\n      <td>...</td>\n      <td>0</td>\n      <td>0</td>\n      <td>0</td>\n      <td>0</td>\n      <td>0</td>\n      <td>0</td>\n      <td>0</td>\n      <td>0</td>\n      <td>1</td>\n      <td>0</td>\n    </tr>\n  </tbody>\n</table>\n<p>5 rows × 175 columns</p>\n</div>"
     },
     "metadata": {},
     "execution_count": 8
    }
   ],
   "source": [
    "encoded_columns = createEncodings(crash_data_csv)\n",
    "encoded_columns.head()"
   ]
  },
  {
   "cell_type": "code",
   "execution_count": 9,
   "metadata": {},
   "outputs": [
    {
     "output_type": "execute_result",
     "data": {
      "text/plain": "                crashid                location  severity_rating5_4  \\\n0  01-02-2014-14-086659  ATLANTIC-ATLANTIC CITY                   1   \n1  01-02-2014-14-083519  ATLANTIC-ATLANTIC CITY                   1   \n2  01-02-2014-14-131338  ATLANTIC-ATLANTIC CITY                   0   \n4  01-02-2014-14-099046  ATLANTIC-ATLANTIC CITY                   1   \n5  01-02-2014-14-005817  ATLANTIC-ATLANTIC CITY                   1   \n\n   severity_rating5_5  intersection_N  intersection_Y  alcohol_involved_N  \\\n0                   0               1               0                   1   \n1                   0               1               0                   0   \n2                   1               0               1                   1   \n4                   0               1               0                   1   \n5                   0               1               0                   0   \n\n   alcohol_involved_Y  hazmat_involved_N  hazmat_involved_Y  ...  \\\n0                   0                  1                  0  ...   \n1                   1                  1                  0  ...   \n2                   0                  1                  0  ...   \n4                   0                  1                  0  ...   \n5                   1                  1                  0  ...   \n\n   first_harmful_event_57.0  first_harmful_event_58.0  \\\n0                         0                         0   \n1                         0                         0   \n2                         0                         0   \n4                         0                         0   \n5                         0                         0   \n\n   first_harmful_event_59.0  first_harmful_event_60.0  \\\n0                         0                         0   \n1                         0                         0   \n2                         0                         0   \n4                         0                         0   \n5                         0                         0   \n\n   first_harmful_event_61.0  first_harmful_event_62.0  \\\n0                         0                         0   \n1                         0                         0   \n2                         0                         0   \n4                         0                         0   \n5                         0                         0   \n\n   first_harmful_event_69.0  first_harmful_event_99.0  flg_cell_in_use_N  \\\n0                         0                         0                  1   \n1                         0                         0                  1   \n2                         0                         0                  0   \n4                         0                         0                  1   \n5                         0                         0                  1   \n\n   flg_cell_in_use_Y  \n0                  0  \n1                  0  \n2                  1  \n4                  0  \n5                  0  \n\n[5 rows x 177 columns]",
      "text/html": "<div>\n<style scoped>\n    .dataframe tbody tr th:only-of-type {\n        vertical-align: middle;\n    }\n\n    .dataframe tbody tr th {\n        vertical-align: top;\n    }\n\n    .dataframe thead th {\n        text-align: right;\n    }\n</style>\n<table border=\"1\" class=\"dataframe\">\n  <thead>\n    <tr style=\"text-align: right;\">\n      <th></th>\n      <th>crashid</th>\n      <th>location</th>\n      <th>severity_rating5_4</th>\n      <th>severity_rating5_5</th>\n      <th>intersection_N</th>\n      <th>intersection_Y</th>\n      <th>alcohol_involved_N</th>\n      <th>alcohol_involved_Y</th>\n      <th>hazmat_involved_N</th>\n      <th>hazmat_involved_Y</th>\n      <th>...</th>\n      <th>first_harmful_event_57.0</th>\n      <th>first_harmful_event_58.0</th>\n      <th>first_harmful_event_59.0</th>\n      <th>first_harmful_event_60.0</th>\n      <th>first_harmful_event_61.0</th>\n      <th>first_harmful_event_62.0</th>\n      <th>first_harmful_event_69.0</th>\n      <th>first_harmful_event_99.0</th>\n      <th>flg_cell_in_use_N</th>\n      <th>flg_cell_in_use_Y</th>\n    </tr>\n  </thead>\n  <tbody>\n    <tr>\n      <th>0</th>\n      <td>01-02-2014-14-086659</td>\n      <td>ATLANTIC-ATLANTIC CITY</td>\n      <td>1</td>\n      <td>0</td>\n      <td>1</td>\n      <td>0</td>\n      <td>1</td>\n      <td>0</td>\n      <td>1</td>\n      <td>0</td>\n      <td>...</td>\n      <td>0</td>\n      <td>0</td>\n      <td>0</td>\n      <td>0</td>\n      <td>0</td>\n      <td>0</td>\n      <td>0</td>\n      <td>0</td>\n      <td>1</td>\n      <td>0</td>\n    </tr>\n    <tr>\n      <th>1</th>\n      <td>01-02-2014-14-083519</td>\n      <td>ATLANTIC-ATLANTIC CITY</td>\n      <td>1</td>\n      <td>0</td>\n      <td>1</td>\n      <td>0</td>\n      <td>0</td>\n      <td>1</td>\n      <td>1</td>\n      <td>0</td>\n      <td>...</td>\n      <td>0</td>\n      <td>0</td>\n      <td>0</td>\n      <td>0</td>\n      <td>0</td>\n      <td>0</td>\n      <td>0</td>\n      <td>0</td>\n      <td>1</td>\n      <td>0</td>\n    </tr>\n    <tr>\n      <th>2</th>\n      <td>01-02-2014-14-131338</td>\n      <td>ATLANTIC-ATLANTIC CITY</td>\n      <td>0</td>\n      <td>1</td>\n      <td>0</td>\n      <td>1</td>\n      <td>1</td>\n      <td>0</td>\n      <td>1</td>\n      <td>0</td>\n      <td>...</td>\n      <td>0</td>\n      <td>0</td>\n      <td>0</td>\n      <td>0</td>\n      <td>0</td>\n      <td>0</td>\n      <td>0</td>\n      <td>0</td>\n      <td>0</td>\n      <td>1</td>\n    </tr>\n    <tr>\n      <th>4</th>\n      <td>01-02-2014-14-099046</td>\n      <td>ATLANTIC-ATLANTIC CITY</td>\n      <td>1</td>\n      <td>0</td>\n      <td>1</td>\n      <td>0</td>\n      <td>1</td>\n      <td>0</td>\n      <td>1</td>\n      <td>0</td>\n      <td>...</td>\n      <td>0</td>\n      <td>0</td>\n      <td>0</td>\n      <td>0</td>\n      <td>0</td>\n      <td>0</td>\n      <td>0</td>\n      <td>0</td>\n      <td>1</td>\n      <td>0</td>\n    </tr>\n    <tr>\n      <th>5</th>\n      <td>01-02-2014-14-005817</td>\n      <td>ATLANTIC-ATLANTIC CITY</td>\n      <td>1</td>\n      <td>0</td>\n      <td>1</td>\n      <td>0</td>\n      <td>0</td>\n      <td>1</td>\n      <td>1</td>\n      <td>0</td>\n      <td>...</td>\n      <td>0</td>\n      <td>0</td>\n      <td>0</td>\n      <td>0</td>\n      <td>0</td>\n      <td>0</td>\n      <td>0</td>\n      <td>0</td>\n      <td>1</td>\n      <td>0</td>\n    </tr>\n  </tbody>\n</table>\n<p>5 rows × 177 columns</p>\n</div>"
     },
     "metadata": {},
     "execution_count": 9
    }
   ],
   "source": [
    "# append the encoded dataframe to the LOCATION column\n",
    "encoded_crash_data = pd.DataFrame()\n",
    "encoded_crash_data = pd.concat([crash_data_csv[[\"crashid\", \"location\"]].copy(), encoded_columns], axis=1)\n",
    "encoded_crash_data.head()"
   ]
  },
  {
   "cell_type": "code",
   "execution_count": 10,
   "metadata": {},
   "outputs": [],
   "source": [
    "# save the encoded dataframe into a csv for future use\n",
    "savePath =  os.path.join(process_folder, 'accidents_encoded_severity.csv')\n",
    "encoded_crash_data.to_csv(savePath)"
   ]
  },
  {
   "cell_type": "markdown",
   "metadata": {},
   "source": [
    "### Group by location and sum each column\n",
    "Before normalizing the data, each column needs to be summed by municipality. The resulting sums from this dataframe were checked against the CSV data in Excel using tabulaton tools."
   ]
  },
  {
   "cell_type": "code",
   "execution_count": 11,
   "metadata": {},
   "outputs": [
    {
     "output_type": "execute_result",
     "data": {
      "text/plain": "                          severity_rating5_4  severity_rating5_5  \\\nlocation                                                           \nATLANTIC-ABSECON CITY                      4                   4   \nATLANTIC-ATLANTIC CITY                    32                   6   \nATLANTIC-BUENA BORO                        2                   1   \nATLANTIC-BUENA VISTA TWP                   9                   6   \nATLANTIC-EGG HARBOR CITY                   5                   4   \n\n                          intersection_N  intersection_Y  alcohol_involved_N  \\\nlocation                                                                       \nATLANTIC-ABSECON CITY                  6               2                   3   \nATLANTIC-ATLANTIC CITY                25              13                  28   \nATLANTIC-BUENA BORO                    2               1                   3   \nATLANTIC-BUENA VISTA TWP              12               3                  13   \nATLANTIC-EGG HARBOR CITY               3               6                   8   \n\n                          alcohol_involved_Y  hazmat_involved_N  \\\nlocation                                                          \nATLANTIC-ABSECON CITY                      5                  8   \nATLANTIC-ATLANTIC CITY                    10                 38   \nATLANTIC-BUENA BORO                        0                  3   \nATLANTIC-BUENA VISTA TWP                   2                 15   \nATLANTIC-EGG HARBOR CITY                   1                  9   \n\n                          hazmat_involved_Y  hs_collision_type_1  \\\nlocation                                                           \nATLANTIC-ABSECON CITY                     0                    3   \nATLANTIC-ATLANTIC CITY                    0                   11   \nATLANTIC-BUENA BORO                       0                    0   \nATLANTIC-BUENA VISTA TWP                  0                    1   \nATLANTIC-EGG HARBOR CITY                  0                    2   \n\n                          hs_collision_type_2  ...  first_harmful_event_57.0  \\\nlocation                                       ...                             \nATLANTIC-ABSECON CITY                       0  ...                         0   \nATLANTIC-ATLANTIC CITY                     13  ...                         0   \nATLANTIC-BUENA BORO                         2  ...                         0   \nATLANTIC-BUENA VISTA TWP                    3  ...                         0   \nATLANTIC-EGG HARBOR CITY                    4  ...                         0   \n\n                          first_harmful_event_58.0  first_harmful_event_59.0  \\\nlocation                                                                       \nATLANTIC-ABSECON CITY                            0                         0   \nATLANTIC-ATLANTIC CITY                           0                         0   \nATLANTIC-BUENA BORO                              0                         0   \nATLANTIC-BUENA VISTA TWP                         0                         0   \nATLANTIC-EGG HARBOR CITY                         0                         0   \n\n                          first_harmful_event_60.0  first_harmful_event_61.0  \\\nlocation                                                                       \nATLANTIC-ABSECON CITY                            0                         0   \nATLANTIC-ATLANTIC CITY                           1                         0   \nATLANTIC-BUENA BORO                              0                         0   \nATLANTIC-BUENA VISTA TWP                         2                         0   \nATLANTIC-EGG HARBOR CITY                         0                         0   \n\n                          first_harmful_event_62.0  first_harmful_event_69.0  \\\nlocation                                                                       \nATLANTIC-ABSECON CITY                            0                         0   \nATLANTIC-ATLANTIC CITY                           0                         0   \nATLANTIC-BUENA BORO                              0                         0   \nATLANTIC-BUENA VISTA TWP                         0                         0   \nATLANTIC-EGG HARBOR CITY                         0                         0   \n\n                          first_harmful_event_99.0  flg_cell_in_use_N  \\\nlocation                                                                \nATLANTIC-ABSECON CITY                            0                  8   \nATLANTIC-ATLANTIC CITY                           0                 37   \nATLANTIC-BUENA BORO                              0                  3   \nATLANTIC-BUENA VISTA TWP                         0                 15   \nATLANTIC-EGG HARBOR CITY                         0                  9   \n\n                          flg_cell_in_use_Y  \nlocation                                     \nATLANTIC-ABSECON CITY                     0  \nATLANTIC-ATLANTIC CITY                    1  \nATLANTIC-BUENA BORO                       0  \nATLANTIC-BUENA VISTA TWP                  0  \nATLANTIC-EGG HARBOR CITY                  0  \n\n[5 rows x 175 columns]",
      "text/html": "<div>\n<style scoped>\n    .dataframe tbody tr th:only-of-type {\n        vertical-align: middle;\n    }\n\n    .dataframe tbody tr th {\n        vertical-align: top;\n    }\n\n    .dataframe thead th {\n        text-align: right;\n    }\n</style>\n<table border=\"1\" class=\"dataframe\">\n  <thead>\n    <tr style=\"text-align: right;\">\n      <th></th>\n      <th>severity_rating5_4</th>\n      <th>severity_rating5_5</th>\n      <th>intersection_N</th>\n      <th>intersection_Y</th>\n      <th>alcohol_involved_N</th>\n      <th>alcohol_involved_Y</th>\n      <th>hazmat_involved_N</th>\n      <th>hazmat_involved_Y</th>\n      <th>hs_collision_type_1</th>\n      <th>hs_collision_type_2</th>\n      <th>...</th>\n      <th>first_harmful_event_57.0</th>\n      <th>first_harmful_event_58.0</th>\n      <th>first_harmful_event_59.0</th>\n      <th>first_harmful_event_60.0</th>\n      <th>first_harmful_event_61.0</th>\n      <th>first_harmful_event_62.0</th>\n      <th>first_harmful_event_69.0</th>\n      <th>first_harmful_event_99.0</th>\n      <th>flg_cell_in_use_N</th>\n      <th>flg_cell_in_use_Y</th>\n    </tr>\n    <tr>\n      <th>location</th>\n      <th></th>\n      <th></th>\n      <th></th>\n      <th></th>\n      <th></th>\n      <th></th>\n      <th></th>\n      <th></th>\n      <th></th>\n      <th></th>\n      <th></th>\n      <th></th>\n      <th></th>\n      <th></th>\n      <th></th>\n      <th></th>\n      <th></th>\n      <th></th>\n      <th></th>\n      <th></th>\n      <th></th>\n    </tr>\n  </thead>\n  <tbody>\n    <tr>\n      <th>ATLANTIC-ABSECON CITY</th>\n      <td>4</td>\n      <td>4</td>\n      <td>6</td>\n      <td>2</td>\n      <td>3</td>\n      <td>5</td>\n      <td>8</td>\n      <td>0</td>\n      <td>3</td>\n      <td>0</td>\n      <td>...</td>\n      <td>0</td>\n      <td>0</td>\n      <td>0</td>\n      <td>0</td>\n      <td>0</td>\n      <td>0</td>\n      <td>0</td>\n      <td>0</td>\n      <td>8</td>\n      <td>0</td>\n    </tr>\n    <tr>\n      <th>ATLANTIC-ATLANTIC CITY</th>\n      <td>32</td>\n      <td>6</td>\n      <td>25</td>\n      <td>13</td>\n      <td>28</td>\n      <td>10</td>\n      <td>38</td>\n      <td>0</td>\n      <td>11</td>\n      <td>13</td>\n      <td>...</td>\n      <td>0</td>\n      <td>0</td>\n      <td>0</td>\n      <td>1</td>\n      <td>0</td>\n      <td>0</td>\n      <td>0</td>\n      <td>0</td>\n      <td>37</td>\n      <td>1</td>\n    </tr>\n    <tr>\n      <th>ATLANTIC-BUENA BORO</th>\n      <td>2</td>\n      <td>1</td>\n      <td>2</td>\n      <td>1</td>\n      <td>3</td>\n      <td>0</td>\n      <td>3</td>\n      <td>0</td>\n      <td>0</td>\n      <td>2</td>\n      <td>...</td>\n      <td>0</td>\n      <td>0</td>\n      <td>0</td>\n      <td>0</td>\n      <td>0</td>\n      <td>0</td>\n      <td>0</td>\n      <td>0</td>\n      <td>3</td>\n      <td>0</td>\n    </tr>\n    <tr>\n      <th>ATLANTIC-BUENA VISTA TWP</th>\n      <td>9</td>\n      <td>6</td>\n      <td>12</td>\n      <td>3</td>\n      <td>13</td>\n      <td>2</td>\n      <td>15</td>\n      <td>0</td>\n      <td>1</td>\n      <td>3</td>\n      <td>...</td>\n      <td>0</td>\n      <td>0</td>\n      <td>0</td>\n      <td>2</td>\n      <td>0</td>\n      <td>0</td>\n      <td>0</td>\n      <td>0</td>\n      <td>15</td>\n      <td>0</td>\n    </tr>\n    <tr>\n      <th>ATLANTIC-EGG HARBOR CITY</th>\n      <td>5</td>\n      <td>4</td>\n      <td>3</td>\n      <td>6</td>\n      <td>8</td>\n      <td>1</td>\n      <td>9</td>\n      <td>0</td>\n      <td>2</td>\n      <td>4</td>\n      <td>...</td>\n      <td>0</td>\n      <td>0</td>\n      <td>0</td>\n      <td>0</td>\n      <td>0</td>\n      <td>0</td>\n      <td>0</td>\n      <td>0</td>\n      <td>9</td>\n      <td>0</td>\n    </tr>\n  </tbody>\n</table>\n<p>5 rows × 175 columns</p>\n</div>"
     },
     "metadata": {},
     "execution_count": 11
    }
   ],
   "source": [
    "encoded_crash_data.drop(['crashid'], axis=1)\n",
    "columnNames = encoded_crash_data.columns\n",
    "crash_data = encoded_crash_data.groupby(['location'])[columnNames].sum()\n",
    "crash_data.head()"
   ]
  },
  {
   "cell_type": "code",
   "execution_count": 12,
   "metadata": {},
   "outputs": [],
   "source": [
    "# save the grouped dataframe into a csv for future use\n",
    "savePath =  os.path.join(process_folder, 'accidents_grouped_severity.csv')\n",
    "crash_data.to_csv(savePath)"
   ]
  },
  {
   "cell_type": "markdown",
   "metadata": {},
   "source": [
    "### Normalize the data\n",
    "MinMaxScalar was used to standardize the scale of all crash attribute columns so that they can be consistently compared to the values of the other columns."
   ]
  },
  {
   "cell_type": "code",
   "execution_count": 13,
   "metadata": {},
   "outputs": [
    {
     "output_type": "execute_result",
     "data": {
      "text/plain": "                          severity_rating5_4  severity_rating5_5  \\\nlocation                                                           \nATLANTIC-ABSECON CITY               0.031250            0.066667   \nATLANTIC-ATLANTIC CITY              0.250000            0.100000   \nATLANTIC-BUENA BORO                 0.015625            0.016667   \nATLANTIC-BUENA VISTA TWP            0.070312            0.100000   \nATLANTIC-EGG HARBOR CITY            0.039062            0.066667   \n\n                          intersection_N  intersection_Y  alcohol_involved_N  \\\nlocation                                                                       \nATLANTIC-ABSECON CITY           0.053571        0.026316            0.017647   \nATLANTIC-ATLANTIC CITY          0.223214        0.171053            0.164706   \nATLANTIC-BUENA BORO             0.017857        0.013158            0.017647   \nATLANTIC-BUENA VISTA TWP        0.107143        0.039474            0.076471   \nATLANTIC-EGG HARBOR CITY        0.026786        0.078947            0.047059   \n\n                          alcohol_involved_Y  hazmat_involved_N  \\\nlocation                                                          \nATLANTIC-ABSECON CITY               0.227273           0.037433   \nATLANTIC-ATLANTIC CITY              0.454545           0.197861   \nATLANTIC-BUENA BORO                 0.000000           0.010695   \nATLANTIC-BUENA VISTA TWP            0.090909           0.074866   \nATLANTIC-EGG HARBOR CITY            0.045455           0.042781   \n\n                          hazmat_involved_Y  hs_collision_type_1  \\\nlocation                                                           \nATLANTIC-ABSECON CITY                   0.0             0.045455   \nATLANTIC-ATLANTIC CITY                  0.0             0.166667   \nATLANTIC-BUENA BORO                     0.0             0.000000   \nATLANTIC-BUENA VISTA TWP                0.0             0.015152   \nATLANTIC-EGG HARBOR CITY                0.0             0.030303   \n\n                          hs_collision_type_2  ...  first_harmful_event_57.0  \\\nlocation                                       ...                             \nATLANTIC-ABSECON CITY                0.000000  ...                       0.0   \nATLANTIC-ATLANTIC CITY               0.206349  ...                       0.0   \nATLANTIC-BUENA BORO                  0.031746  ...                       0.0   \nATLANTIC-BUENA VISTA TWP             0.047619  ...                       0.0   \nATLANTIC-EGG HARBOR CITY             0.063492  ...                       0.0   \n\n                          first_harmful_event_58.0  first_harmful_event_59.0  \\\nlocation                                                                       \nATLANTIC-ABSECON CITY                          0.0                       0.0   \nATLANTIC-ATLANTIC CITY                         0.0                       0.0   \nATLANTIC-BUENA BORO                            0.0                       0.0   \nATLANTIC-BUENA VISTA TWP                       0.0                       0.0   \nATLANTIC-EGG HARBOR CITY                       0.0                       0.0   \n\n                          first_harmful_event_60.0  first_harmful_event_61.0  \\\nlocation                                                                       \nATLANTIC-ABSECON CITY                     0.000000                       0.0   \nATLANTIC-ATLANTIC CITY                    0.166667                       0.0   \nATLANTIC-BUENA BORO                       0.000000                       0.0   \nATLANTIC-BUENA VISTA TWP                  0.333333                       0.0   \nATLANTIC-EGG HARBOR CITY                  0.000000                       0.0   \n\n                          first_harmful_event_62.0  first_harmful_event_69.0  \\\nlocation                                                                       \nATLANTIC-ABSECON CITY                          0.0                       0.0   \nATLANTIC-ATLANTIC CITY                         0.0                       0.0   \nATLANTIC-BUENA BORO                            0.0                       0.0   \nATLANTIC-BUENA VISTA TWP                       0.0                       0.0   \nATLANTIC-EGG HARBOR CITY                       0.0                       0.0   \n\n                          first_harmful_event_99.0  flg_cell_in_use_N  \\\nlocation                                                                \nATLANTIC-ABSECON CITY                          0.0           0.037838   \nATLANTIC-ATLANTIC CITY                         0.0           0.194595   \nATLANTIC-BUENA BORO                            0.0           0.010811   \nATLANTIC-BUENA VISTA TWP                       0.0           0.075676   \nATLANTIC-EGG HARBOR CITY                       0.0           0.043243   \n\n                          flg_cell_in_use_Y  \nlocation                                     \nATLANTIC-ABSECON CITY              0.000000  \nATLANTIC-ATLANTIC CITY             0.333333  \nATLANTIC-BUENA BORO                0.000000  \nATLANTIC-BUENA VISTA TWP           0.000000  \nATLANTIC-EGG HARBOR CITY           0.000000  \n\n[5 rows x 175 columns]",
      "text/html": "<div>\n<style scoped>\n    .dataframe tbody tr th:only-of-type {\n        vertical-align: middle;\n    }\n\n    .dataframe tbody tr th {\n        vertical-align: top;\n    }\n\n    .dataframe thead th {\n        text-align: right;\n    }\n</style>\n<table border=\"1\" class=\"dataframe\">\n  <thead>\n    <tr style=\"text-align: right;\">\n      <th></th>\n      <th>severity_rating5_4</th>\n      <th>severity_rating5_5</th>\n      <th>intersection_N</th>\n      <th>intersection_Y</th>\n      <th>alcohol_involved_N</th>\n      <th>alcohol_involved_Y</th>\n      <th>hazmat_involved_N</th>\n      <th>hazmat_involved_Y</th>\n      <th>hs_collision_type_1</th>\n      <th>hs_collision_type_2</th>\n      <th>...</th>\n      <th>first_harmful_event_57.0</th>\n      <th>first_harmful_event_58.0</th>\n      <th>first_harmful_event_59.0</th>\n      <th>first_harmful_event_60.0</th>\n      <th>first_harmful_event_61.0</th>\n      <th>first_harmful_event_62.0</th>\n      <th>first_harmful_event_69.0</th>\n      <th>first_harmful_event_99.0</th>\n      <th>flg_cell_in_use_N</th>\n      <th>flg_cell_in_use_Y</th>\n    </tr>\n    <tr>\n      <th>location</th>\n      <th></th>\n      <th></th>\n      <th></th>\n      <th></th>\n      <th></th>\n      <th></th>\n      <th></th>\n      <th></th>\n      <th></th>\n      <th></th>\n      <th></th>\n      <th></th>\n      <th></th>\n      <th></th>\n      <th></th>\n      <th></th>\n      <th></th>\n      <th></th>\n      <th></th>\n      <th></th>\n      <th></th>\n    </tr>\n  </thead>\n  <tbody>\n    <tr>\n      <th>ATLANTIC-ABSECON CITY</th>\n      <td>0.031250</td>\n      <td>0.066667</td>\n      <td>0.053571</td>\n      <td>0.026316</td>\n      <td>0.017647</td>\n      <td>0.227273</td>\n      <td>0.037433</td>\n      <td>0.0</td>\n      <td>0.045455</td>\n      <td>0.000000</td>\n      <td>...</td>\n      <td>0.0</td>\n      <td>0.0</td>\n      <td>0.0</td>\n      <td>0.000000</td>\n      <td>0.0</td>\n      <td>0.0</td>\n      <td>0.0</td>\n      <td>0.0</td>\n      <td>0.037838</td>\n      <td>0.000000</td>\n    </tr>\n    <tr>\n      <th>ATLANTIC-ATLANTIC CITY</th>\n      <td>0.250000</td>\n      <td>0.100000</td>\n      <td>0.223214</td>\n      <td>0.171053</td>\n      <td>0.164706</td>\n      <td>0.454545</td>\n      <td>0.197861</td>\n      <td>0.0</td>\n      <td>0.166667</td>\n      <td>0.206349</td>\n      <td>...</td>\n      <td>0.0</td>\n      <td>0.0</td>\n      <td>0.0</td>\n      <td>0.166667</td>\n      <td>0.0</td>\n      <td>0.0</td>\n      <td>0.0</td>\n      <td>0.0</td>\n      <td>0.194595</td>\n      <td>0.333333</td>\n    </tr>\n    <tr>\n      <th>ATLANTIC-BUENA BORO</th>\n      <td>0.015625</td>\n      <td>0.016667</td>\n      <td>0.017857</td>\n      <td>0.013158</td>\n      <td>0.017647</td>\n      <td>0.000000</td>\n      <td>0.010695</td>\n      <td>0.0</td>\n      <td>0.000000</td>\n      <td>0.031746</td>\n      <td>...</td>\n      <td>0.0</td>\n      <td>0.0</td>\n      <td>0.0</td>\n      <td>0.000000</td>\n      <td>0.0</td>\n      <td>0.0</td>\n      <td>0.0</td>\n      <td>0.0</td>\n      <td>0.010811</td>\n      <td>0.000000</td>\n    </tr>\n    <tr>\n      <th>ATLANTIC-BUENA VISTA TWP</th>\n      <td>0.070312</td>\n      <td>0.100000</td>\n      <td>0.107143</td>\n      <td>0.039474</td>\n      <td>0.076471</td>\n      <td>0.090909</td>\n      <td>0.074866</td>\n      <td>0.0</td>\n      <td>0.015152</td>\n      <td>0.047619</td>\n      <td>...</td>\n      <td>0.0</td>\n      <td>0.0</td>\n      <td>0.0</td>\n      <td>0.333333</td>\n      <td>0.0</td>\n      <td>0.0</td>\n      <td>0.0</td>\n      <td>0.0</td>\n      <td>0.075676</td>\n      <td>0.000000</td>\n    </tr>\n    <tr>\n      <th>ATLANTIC-EGG HARBOR CITY</th>\n      <td>0.039062</td>\n      <td>0.066667</td>\n      <td>0.026786</td>\n      <td>0.078947</td>\n      <td>0.047059</td>\n      <td>0.045455</td>\n      <td>0.042781</td>\n      <td>0.0</td>\n      <td>0.030303</td>\n      <td>0.063492</td>\n      <td>...</td>\n      <td>0.0</td>\n      <td>0.0</td>\n      <td>0.0</td>\n      <td>0.000000</td>\n      <td>0.0</td>\n      <td>0.0</td>\n      <td>0.0</td>\n      <td>0.0</td>\n      <td>0.043243</td>\n      <td>0.000000</td>\n    </tr>\n  </tbody>\n</table>\n<p>5 rows × 175 columns</p>\n</div>"
     },
     "metadata": {},
     "execution_count": 13
    }
   ],
   "source": [
    "# scale numerical features into a normalized range, 0-1\n",
    "from sklearn.preprocessing import MinMaxScaler\n",
    "\n",
    "scaler=MinMaxScaler()\n",
    "# store them in this dataframe\n",
    "crash_data_scaled=pd.DataFrame(scaler.fit_transform(crash_data.astype(float)))\n",
    "\n",
    "# get same features and County-Municipality indices\n",
    "crash_data_scaled.columns=crash_data.columns\n",
    "crash_data_scaled.index=crash_data.index\n",
    "\n",
    "crash_data_scaled.head()"
   ]
  },
  {
   "cell_type": "code",
   "execution_count": 14,
   "metadata": {},
   "outputs": [],
   "source": [
    "# save the normalized dataframe into a csv for future use\n",
    "savePath =  os.path.join(process_folder, 'accidents_normalized_severity.csv')\n",
    "crash_data_scaled.to_csv(savePath)"
   ]
  },
  {
   "cell_type": "code",
   "execution_count": 15,
   "metadata": {},
   "outputs": [
    {
     "output_type": "execute_result",
     "data": {
      "text/plain": "       severity_rating5_4  severity_rating5_5  intersection_N  intersection_Y  \\\ncount          511.000000          511.000000      511.000000      511.000000   \nmean             0.066353            0.080855        0.084708        0.050752   \nstd              0.095535            0.119637        0.112974        0.090128   \nmin              0.000000            0.000000        0.000000        0.000000   \n25%              0.015625            0.016667        0.017857        0.013158   \n50%              0.039062            0.033333        0.044643        0.026316   \n75%              0.078125            0.100000        0.107143        0.052632   \nmax              1.000000            1.000000        1.000000        1.000000   \n\n       alcohol_involved_N  alcohol_involved_Y  hazmat_involved_N  \\\ncount          511.000000          511.000000         511.000000   \nmean             0.065017            0.104163           0.065814   \nstd              0.094331            0.150884           0.099486   \nmin              0.000000            0.000000           0.000000   \n25%              0.017647            0.000000           0.010695   \n50%              0.035294            0.045455           0.032086   \n75%              0.076471            0.136364           0.074866   \nmax              1.000000            1.000000           1.000000   \n\n       hazmat_involved_Y  hs_collision_type_1  hs_collision_type_2  ...  \\\ncount         511.000000           511.000000           511.000000  ...   \nmean            0.012394             0.035759             0.066070  ...   \nstd             0.075686             0.070825             0.110580  ...   \nmin             0.000000             0.000000             0.000000  ...   \n25%             0.000000             0.000000             0.015873  ...   \n50%             0.000000             0.015152             0.031746  ...   \n75%             0.000000             0.045455             0.079365  ...   \nmax             1.000000             1.000000             1.000000  ...   \n\n       first_harmful_event_57.0  first_harmful_event_58.0  \\\ncount                511.000000                511.000000   \nmean                   0.025440                  0.034247   \nstd                    0.157613                  0.147865   \nmin                    0.000000                  0.000000   \n25%                    0.000000                  0.000000   \n50%                    0.000000                  0.000000   \n75%                    0.000000                  0.000000   \nmax                    1.000000                  1.000000   \n\n       first_harmful_event_59.0  first_harmful_event_60.0  \\\ncount                511.000000                511.000000   \nmean                   0.012720                  0.082518   \nstd                    0.075632                  0.161646   \nmin                    0.000000                  0.000000   \n25%                    0.000000                  0.000000   \n50%                    0.000000                  0.000000   \n75%                    0.000000                  0.166667   \nmax                    1.000000                  1.000000   \n\n       first_harmful_event_61.0  first_harmful_event_62.0  \\\ncount                511.000000                511.000000   \nmean                   0.014351                  0.006849   \nstd                    0.076772                  0.066066   \nmin                    0.000000                  0.000000   \n25%                    0.000000                  0.000000   \n50%                    0.000000                  0.000000   \n75%                    0.000000                  0.000000   \nmax                    1.000000                  1.000000   \n\n       first_harmful_event_69.0  first_harmful_event_99.0  flg_cell_in_use_N  \\\ncount                511.000000                511.000000         511.000000   \nmean                   0.030333                  0.029354           0.066039   \nstd                    0.095536                  0.168963           0.100022   \nmin                    0.000000                  0.000000           0.000000   \n25%                    0.000000                  0.000000           0.010811   \n50%                    0.000000                  0.000000           0.032432   \n75%                    0.000000                  0.000000           0.075676   \nmax                    1.000000                  1.000000           1.000000   \n\n       flg_cell_in_use_Y  \ncount         511.000000  \nmean            0.042401  \nstd             0.125880  \nmin             0.000000  \n25%             0.000000  \n50%             0.000000  \n75%             0.000000  \nmax             1.000000  \n\n[8 rows x 175 columns]",
      "text/html": "<div>\n<style scoped>\n    .dataframe tbody tr th:only-of-type {\n        vertical-align: middle;\n    }\n\n    .dataframe tbody tr th {\n        vertical-align: top;\n    }\n\n    .dataframe thead th {\n        text-align: right;\n    }\n</style>\n<table border=\"1\" class=\"dataframe\">\n  <thead>\n    <tr style=\"text-align: right;\">\n      <th></th>\n      <th>severity_rating5_4</th>\n      <th>severity_rating5_5</th>\n      <th>intersection_N</th>\n      <th>intersection_Y</th>\n      <th>alcohol_involved_N</th>\n      <th>alcohol_involved_Y</th>\n      <th>hazmat_involved_N</th>\n      <th>hazmat_involved_Y</th>\n      <th>hs_collision_type_1</th>\n      <th>hs_collision_type_2</th>\n      <th>...</th>\n      <th>first_harmful_event_57.0</th>\n      <th>first_harmful_event_58.0</th>\n      <th>first_harmful_event_59.0</th>\n      <th>first_harmful_event_60.0</th>\n      <th>first_harmful_event_61.0</th>\n      <th>first_harmful_event_62.0</th>\n      <th>first_harmful_event_69.0</th>\n      <th>first_harmful_event_99.0</th>\n      <th>flg_cell_in_use_N</th>\n      <th>flg_cell_in_use_Y</th>\n    </tr>\n  </thead>\n  <tbody>\n    <tr>\n      <th>count</th>\n      <td>511.000000</td>\n      <td>511.000000</td>\n      <td>511.000000</td>\n      <td>511.000000</td>\n      <td>511.000000</td>\n      <td>511.000000</td>\n      <td>511.000000</td>\n      <td>511.000000</td>\n      <td>511.000000</td>\n      <td>511.000000</td>\n      <td>...</td>\n      <td>511.000000</td>\n      <td>511.000000</td>\n      <td>511.000000</td>\n      <td>511.000000</td>\n      <td>511.000000</td>\n      <td>511.000000</td>\n      <td>511.000000</td>\n      <td>511.000000</td>\n      <td>511.000000</td>\n      <td>511.000000</td>\n    </tr>\n    <tr>\n      <th>mean</th>\n      <td>0.066353</td>\n      <td>0.080855</td>\n      <td>0.084708</td>\n      <td>0.050752</td>\n      <td>0.065017</td>\n      <td>0.104163</td>\n      <td>0.065814</td>\n      <td>0.012394</td>\n      <td>0.035759</td>\n      <td>0.066070</td>\n      <td>...</td>\n      <td>0.025440</td>\n      <td>0.034247</td>\n      <td>0.012720</td>\n      <td>0.082518</td>\n      <td>0.014351</td>\n      <td>0.006849</td>\n      <td>0.030333</td>\n      <td>0.029354</td>\n      <td>0.066039</td>\n      <td>0.042401</td>\n    </tr>\n    <tr>\n      <th>std</th>\n      <td>0.095535</td>\n      <td>0.119637</td>\n      <td>0.112974</td>\n      <td>0.090128</td>\n      <td>0.094331</td>\n      <td>0.150884</td>\n      <td>0.099486</td>\n      <td>0.075686</td>\n      <td>0.070825</td>\n      <td>0.110580</td>\n      <td>...</td>\n      <td>0.157613</td>\n      <td>0.147865</td>\n      <td>0.075632</td>\n      <td>0.161646</td>\n      <td>0.076772</td>\n      <td>0.066066</td>\n      <td>0.095536</td>\n      <td>0.168963</td>\n      <td>0.100022</td>\n      <td>0.125880</td>\n    </tr>\n    <tr>\n      <th>min</th>\n      <td>0.000000</td>\n      <td>0.000000</td>\n      <td>0.000000</td>\n      <td>0.000000</td>\n      <td>0.000000</td>\n      <td>0.000000</td>\n      <td>0.000000</td>\n      <td>0.000000</td>\n      <td>0.000000</td>\n      <td>0.000000</td>\n      <td>...</td>\n      <td>0.000000</td>\n      <td>0.000000</td>\n      <td>0.000000</td>\n      <td>0.000000</td>\n      <td>0.000000</td>\n      <td>0.000000</td>\n      <td>0.000000</td>\n      <td>0.000000</td>\n      <td>0.000000</td>\n      <td>0.000000</td>\n    </tr>\n    <tr>\n      <th>25%</th>\n      <td>0.015625</td>\n      <td>0.016667</td>\n      <td>0.017857</td>\n      <td>0.013158</td>\n      <td>0.017647</td>\n      <td>0.000000</td>\n      <td>0.010695</td>\n      <td>0.000000</td>\n      <td>0.000000</td>\n      <td>0.015873</td>\n      <td>...</td>\n      <td>0.000000</td>\n      <td>0.000000</td>\n      <td>0.000000</td>\n      <td>0.000000</td>\n      <td>0.000000</td>\n      <td>0.000000</td>\n      <td>0.000000</td>\n      <td>0.000000</td>\n      <td>0.010811</td>\n      <td>0.000000</td>\n    </tr>\n    <tr>\n      <th>50%</th>\n      <td>0.039062</td>\n      <td>0.033333</td>\n      <td>0.044643</td>\n      <td>0.026316</td>\n      <td>0.035294</td>\n      <td>0.045455</td>\n      <td>0.032086</td>\n      <td>0.000000</td>\n      <td>0.015152</td>\n      <td>0.031746</td>\n      <td>...</td>\n      <td>0.000000</td>\n      <td>0.000000</td>\n      <td>0.000000</td>\n      <td>0.000000</td>\n      <td>0.000000</td>\n      <td>0.000000</td>\n      <td>0.000000</td>\n      <td>0.000000</td>\n      <td>0.032432</td>\n      <td>0.000000</td>\n    </tr>\n    <tr>\n      <th>75%</th>\n      <td>0.078125</td>\n      <td>0.100000</td>\n      <td>0.107143</td>\n      <td>0.052632</td>\n      <td>0.076471</td>\n      <td>0.136364</td>\n      <td>0.074866</td>\n      <td>0.000000</td>\n      <td>0.045455</td>\n      <td>0.079365</td>\n      <td>...</td>\n      <td>0.000000</td>\n      <td>0.000000</td>\n      <td>0.000000</td>\n      <td>0.166667</td>\n      <td>0.000000</td>\n      <td>0.000000</td>\n      <td>0.000000</td>\n      <td>0.000000</td>\n      <td>0.075676</td>\n      <td>0.000000</td>\n    </tr>\n    <tr>\n      <th>max</th>\n      <td>1.000000</td>\n      <td>1.000000</td>\n      <td>1.000000</td>\n      <td>1.000000</td>\n      <td>1.000000</td>\n      <td>1.000000</td>\n      <td>1.000000</td>\n      <td>1.000000</td>\n      <td>1.000000</td>\n      <td>1.000000</td>\n      <td>...</td>\n      <td>1.000000</td>\n      <td>1.000000</td>\n      <td>1.000000</td>\n      <td>1.000000</td>\n      <td>1.000000</td>\n      <td>1.000000</td>\n      <td>1.000000</td>\n      <td>1.000000</td>\n      <td>1.000000</td>\n      <td>1.000000</td>\n    </tr>\n  </tbody>\n</table>\n<p>8 rows × 175 columns</p>\n</div>"
     },
     "metadata": {},
     "execution_count": 15
    }
   ],
   "source": [
    "crash_data_scaled.describe()"
   ]
  }
 ]
}